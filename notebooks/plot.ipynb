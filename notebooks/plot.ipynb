{
 "cells": [
  {
   "cell_type": "code",
   "execution_count": null,
   "id": "751cb2fb-d215-44fd-90ae-3807f2f23f58",
   "metadata": {},
   "outputs": [],
   "source": [
    "%matplotlib inline"
   ]
  },
  {
   "cell_type": "code",
   "execution_count": null,
   "id": "6f43e56d-7bb0-4b92-8192-04c49ddd0bad",
   "metadata": {},
   "outputs": [],
   "source": [
    "\n",
    "import matplotlib.pyplot as plt\n",
    "import numpy as np\n",
    "\n",
    "from arkas import plot\n",
    "from arkas.result import figure as fg"
   ]
  },
  {
   "cell_type": "code",
   "execution_count": null,
   "id": "3722bab3-5696-4ff9-95e1-ae8f87e9b5b8",
   "metadata": {},
   "outputs": [],
   "source": [
    "plt.style.use(\"bmh\")\n",
    "plt.rcParams[\"figure.figsize\"] = (16, 5)"
   ]
  },
  {
   "cell_type": "code",
   "execution_count": null,
   "id": "086b8840-fd9a-4b35-a8d2-50a959aae677",
   "metadata": {},
   "outputs": [],
   "source": [
    "random_seed = 15803713921897248048\n",
    "rng = np.random.default_rng()"
   ]
  },
  {
   "cell_type": "markdown",
   "id": "8beae241-434a-467f-bca4-101a18b49ad9",
   "metadata": {},
   "source": [
    "## binary_roc_curve"
   ]
  },
  {
   "cell_type": "code",
   "execution_count": null,
   "id": "3593a679-620c-453c-9f43-6f2db765b301",
   "metadata": {},
   "outputs": [],
   "source": [
    "fig, ax = plt.subplots()\n",
    "y_true=np.array([1, 0, 0, 1, 1])\n",
    "y_score=np.array([2, -1, 0, 3, 1])\n",
    "\n",
    "plot.binary_roc_curve(ax=ax, y_true=y_true, y_score=y_score, name=\"model A\")\n",
    "\n",
    "y_true=np.array([1, 0, 0, 1, 1, 0, 1, 1])\n",
    "y_score=np.array([2, -1, 0, -2, 1, 1, -1, 2])\n",
    "plot.binary_roc_curve(ax=ax, y_true=y_true, y_score=y_score, name=\"model B\", plot_chance_level=True)"
   ]
  },
  {
   "cell_type": "code",
   "execution_count": null,
   "id": "77ab9a06-3f8d-4c27-9938-00fe88f3809c",
   "metadata": {},
   "outputs": [],
   "source": []
  },
  {
   "cell_type": "markdown",
   "id": "e164181b-a988-4920-8fe5-c31afa8e4372",
   "metadata": {},
   "source": [
    "## binary_precision_recall_curve"
   ]
  },
  {
   "cell_type": "code",
   "execution_count": null,
   "id": "d334747a-fed9-4013-827c-ff386f45687d",
   "metadata": {},
   "outputs": [],
   "source": [
    "fig, ax = plt.subplots()\n",
    "y_true = np.array([1, 0, 0, 1, 1])\n",
    "y_pred = np.array([1, 0, 0, 1, 1])\n",
    "\n",
    "plot.binary_precision_recall_curve(ax=ax, y_true=y_true, y_pred=y_pred, name=\"model A\")\n",
    "\n",
    "y_true = np.array([1, 0, 0, 1, 1, 0, 1, 1])\n",
    "y_pred = np.array([1, 0, 1, 0, 1, 0, 1, 0])\n",
    "plot.binary_precision_recall_curve(ax=ax, y_true=y_true, y_pred=y_pred, name=\"model B\", plot_chance_level=True)"
   ]
  },
  {
   "cell_type": "code",
   "execution_count": null,
   "id": "ec746a80-570b-4331-aef5-d6fbdd3b0813",
   "metadata": {},
   "outputs": [],
   "source": [
    "fig = fg.binary_precision_recall_curve(y_true=y_true, y_pred=y_pred)"
   ]
  },
  {
   "cell_type": "code",
   "execution_count": null,
   "id": "c976db11-52bf-4dd3-9e2d-61256dce8968",
   "metadata": {},
   "outputs": [],
   "source": []
  },
  {
   "cell_type": "code",
   "execution_count": null,
   "id": "5e10689f-6398-4801-a4fc-ec423c25f8f6",
   "metadata": {},
   "outputs": [],
   "source": []
  }
 ],
 "metadata": {
  "kernelspec": {
   "display_name": "Python 3 (ipykernel)",
   "language": "python",
   "name": "python3"
  },
  "language_info": {
   "codemirror_mode": {
    "name": "ipython",
    "version": 3
   },
   "file_extension": ".py",
   "mimetype": "text/x-python",
   "name": "python",
   "nbconvert_exporter": "python",
   "pygments_lexer": "ipython3",
   "version": "3.11.9"
  }
 },
 "nbformat": 4,
 "nbformat_minor": 5
}
